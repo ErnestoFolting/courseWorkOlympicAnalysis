{
 "cells": [
  {
   "cell_type": "markdown",
   "metadata": {},
   "source": [
    "Імпортуємо потрібну бібліотеку."
   ]
  },
  {
   "cell_type": "code",
   "execution_count": null,
   "metadata": {},
   "outputs": [],
   "source": [
    "import pandas as pd "
   ]
  },
  {
   "cell_type": "code",
   "execution_count": null,
   "metadata": {},
   "outputs": [],
   "source": [
    "def getDataset(path):\n",
    "    return pd.read_csv(path, sep=',',encoding='cp1252')\n",
    "\n",
    "dataset = getDataset('FullDataset.csv')\n",
    "\n",
    "dataset = dataset[dataset[\"ID\"]<50000]\n",
    "dataset.info()\n",
    "dataset.head(10)\n",
    "\n",
    "def isMatch(str,lst):\n",
    "    for l in lst:\n",
    "        if(l == str):\n",
    "            return 1\n",
    "    return 0\n",
    "lst1 = [\"Cross Country Skiing\", \"Sailing\", \"Athletics\", \"Alpine Skiing\", \"Luge\", \"Rowing\", \"Swimming\", \"Canoeing\", \"Cycling\", \"Freestyle Skiing\"]\n",
    "lst2 = [\"Speed Skating\", \"Weightlifting\", \"Bobsleigh\", \"Archery\", \"Shooting\", \"Trampolining\", \"Snowboarding\", \"Ski Jumping\", \"Short Track Speed Skating\", \"Skeleton\"]\n",
    "lst3 = [\"Gymnastics\", \"Diving\", \"Figure Skating\", \"Synchronized Swimming\", \"Rhythmic Gymnastics\", \"Curling\", \"Golf\"]\n",
    "lst4 = [\"Judo\", \"Wrestling\", \"Taekwondo\", \"Boxing\", \"Fencing\"]\n",
    "lst5 = [\"Biathlon\", \"Modern Pentathlon\", \"Nordic Combined\", \"Triathlon\"]\n",
    "lst6 = [\"Basketball\",\"Ice Hockey\", \"Badminton\", \"Football\", \"Equestrianism\", \"Handball\", \"Water Polo\", \"Tennis\", \"Hockey\", \"Softball\", \"Volleyball\", \"Table Tennis\", \"Baseball\", \"Rugby Sevens\", \"Beach Volleyball\"]\n",
    "\n",
    "for i in range(len(dataset)) :\n",
    "    if(isMatch(dataset.iloc[i][\"Sport\"], lst1) == 1):\n",
    "        dataset.at[i,\"Sport\"] = 'Cyclic'\n",
    "    elif(isMatch(dataset.iloc[i][\"Sport\"], lst2) == 1):\n",
    "        dataset.at[i,\"Sport\"] = 'Speed'\n",
    "    elif(isMatch(dataset.iloc[i][\"Sport\"], lst3) == 1):\n",
    "        dataset.at[i,\"Sport\"] = 'Coordination'\n",
    "    elif(isMatch(dataset.iloc[i][\"Sport\"], lst4) == 1):\n",
    "        dataset.at[i,\"Sport\"] = 'Fight'\n",
    "    elif(isMatch(dataset.iloc[i][\"Sport\"], lst5) == 1):\n",
    "        dataset.at[i,\"Sport\"] = 'All-around'\n",
    "    else:\n",
    "        dataset.at[i,\"Sport\"] = 'Games'\n",
    "\n",
    "\n",
    "dataset.to_csv(\"check1.csv\", sep=',', encoding='utf-8')"
   ]
  },
  {
   "cell_type": "markdown",
   "metadata": {},
   "source": [
    "Приберемо непотрібні для нашого аналізу стовпчики."
   ]
  },
  {
   "cell_type": "code",
   "execution_count": null,
   "metadata": {},
   "outputs": [],
   "source": [
    "dataset = dataset.drop(\"Unnamed: 0\", axis = 1)\n",
    "dataset = dataset.drop(\"Code\", axis = 1)\n",
    "dataset = dataset.drop(\"Year\", axis = 1)\n",
    "dataset = dataset.drop(\"Team\", axis = 1)\n",
    "dataset = dataset.drop(\"ID\", axis = 1)\n",
    "dataset.info()\n",
    "dataset.head(10)"
   ]
  },
  {
   "cell_type": "markdown",
   "metadata": {},
   "source": [
    "Змінимо значення поля з медалями як булеве чи здобув спортсмен медаль."
   ]
  },
  {
   "cell_type": "code",
   "execution_count": null,
   "metadata": {},
   "outputs": [],
   "source": [
    "dataset[\"Medal\"].notnull().astype('int')\n",
    "dataset[\"Medal\"].fillna(0,inplace = True)\n",
    "\n",
    "dataset[\"Medal\"]=dataset[\"Medal\"].replace(regex=[\"Gold\"],value='1')\n",
    "dataset[\"Medal\"]=dataset[\"Medal\"].replace(regex=[\"Bronze\"],value='1')\n",
    "dataset[\"Medal\"]=dataset[\"Medal\"].replace(regex=[\"Silver\"],value='1')\n",
    "dataset.to_csv(\"check1.csv\", sep=',', encoding='utf-8')\n",
    "\n",
    "dataset.info()\n"
   ]
  },
  {
   "cell_type": "code",
   "execution_count": null,
   "metadata": {},
   "outputs": [],
   "source": [
    "import seaborn as sns\n",
    "import matplotlib.pyplot as plt\n",
    "sns.countplot(x=\"Medal\", data=dataset, palette = \"Purples\")\n",
    "plt.show()"
   ]
  },
  {
   "cell_type": "markdown",
   "metadata": {},
   "source": [
    "Ми готові працювати з даними. Тепер давайте розподілимо дані на тренувальні та дані для тесту."
   ]
  },
  {
   "cell_type": "code",
   "execution_count": null,
   "metadata": {},
   "outputs": [],
   "source": [
    "from sklearn.model_selection import train_test_split\n",
    "trainingData, testingData  = train_test_split(dataset,test_size=0.30,random_state = 1)\n",
    "\n",
    "features = pd.concat([trainingData,testingData]).reset_index(drop = True)\n",
    "features = pd.get_dummies(features)\n",
    "features = features.drop(\"Medal_0\", axis = 1)\n",
    "features.rename(columns = {'Medal_1':'Medal'}, inplace = True)\n",
    "trainingData = features.iloc[:trainingData.shape[0],:]\n",
    "testingData = features.iloc[trainingData.shape[0]:,:]\n",
    "print(trainingData.head(10))\n"
   ]
  },
  {
   "cell_type": "code",
   "execution_count": null,
   "metadata": {},
   "outputs": [],
   "source": [
    "sns.heatmap(dataset.corr(),annot=True,lw=1,cmap = \"Purples\")"
   ]
  },
  {
   "cell_type": "markdown",
   "metadata": {},
   "source": [
    "Тепер визначимо змінні X та Y для тренувальних та тестувальних даних."
   ]
  },
  {
   "cell_type": "code",
   "execution_count": null,
   "metadata": {},
   "outputs": [],
   "source": [
    "trainingX  = trainingData.drop(columns='Medal')\n",
    "trainingY = trainingData['Medal']\n",
    "\n",
    "testingX  = testingData.drop(columns='Medal')\n",
    "testingY = testingData['Medal']"
   ]
  },
  {
   "cell_type": "markdown",
   "metadata": {},
   "source": [
    "Додамо необхідні бібліотеки для побудови моделей, побудуємо їх та перевіримо на тестових даних. Спочатку класифікатор Decision Tree."
   ]
  },
  {
   "cell_type": "code",
   "execution_count": null,
   "metadata": {},
   "outputs": [],
   "source": [
    "from sklearn.tree import DecisionTreeClassifier\n",
    "from sklearn import tree\n",
    "\n",
    "decisionTree = DecisionTreeClassifier(max_depth=15,random_state=1)\n",
    "decisionTree.fit(trainingX,trainingY)\n",
    "\n",
    "plt.figure(figsize=(30,30))  \n",
    "tree.plot_tree(decisionTree)\n",
    "plt.show()\n",
    "\n",
    "arr = decisionTree.predict(testingX)"
   ]
  },
  {
   "cell_type": "code",
   "execution_count": null,
   "metadata": {},
   "outputs": [],
   "source": [
    "from sklearn.metrics import confusion_matrix\n",
    "\n",
    "def plot_confusion_matrix(cm,title = \"Confusion matrix\",cmap = plt.cm.Purples):\n",
    "    plt.figure()\n",
    "    print(cm)   \n",
    "    plt.imshow(cm,interpolation=\"nearest\",cmap=cmap)\n",
    "    plt.title(title)\n",
    "    plt.colorbar()\n",
    "    plt.tight_layout()\n",
    "    plt.ylabel('True label')\n",
    "    plt.xlabel('Predicted label')\n",
    "    plt.grid(False)\n",
    "    plt.show()\n",
    "\n",
    "cm = confusion_matrix(testingY,arr)\n",
    "plot_confusion_matrix(cm)"
   ]
  },
  {
   "cell_type": "code",
   "execution_count": null,
   "metadata": {},
   "outputs": [],
   "source": [
    "print('Score of Decision Tree:',decisionTree.score(testingX,testingY)) "
   ]
  },
  {
   "cell_type": "code",
   "execution_count": null,
   "metadata": {},
   "outputs": [],
   "source": [
    "from sklearn.metrics import roc_curve, auc, roc_auc_score\n",
    "\n",
    "def plot_roc_curve(fper, tper):  \n",
    "    plt.plot(fper, tper, color='orange', label='ROC')\n",
    "    plt.plot([0, 1], [0, 1], color='darkblue', linestyle='--')\n",
    "    plt.xlabel('False Positive Rate')\n",
    "    plt.ylabel('True Positive Rate')\n",
    "    plt.title('Receiver Operating Characteristic (ROC) Curve')\n",
    "    plt.legend()\n",
    "    plt.show()\n",
    "probs = decisionTree.predict_proba(testingX)  \n",
    "probs = probs[:, 1]  \n",
    "fper, tper, thresholds = roc_curve(testingY, probs) \n",
    "\n",
    "plot_roc_curve(fper, tper)\n",
    "auc = roc_auc_score(testingY, probs)\n",
    "print(\"AUC score:\",auc)"
   ]
  },
  {
   "cell_type": "markdown",
   "metadata": {},
   "source": [
    "Тепер класифікатор Random Forest. "
   ]
  },
  {
   "cell_type": "code",
   "execution_count": null,
   "metadata": {},
   "outputs": [],
   "source": [
    "from sklearn.ensemble import RandomForestClassifier\n",
    "randomForest = RandomForestClassifier(max_depth=15)\n",
    "randomForest.fit(trainingX,trainingY)\n",
    "\n",
    "arr = randomForest.predict(testingX)"
   ]
  },
  {
   "cell_type": "code",
   "execution_count": null,
   "metadata": {},
   "outputs": [],
   "source": [
    "cm = confusion_matrix(testingY,arr)\n",
    "plot_confusion_matrix(cm)"
   ]
  },
  {
   "cell_type": "code",
   "execution_count": null,
   "metadata": {},
   "outputs": [],
   "source": [
    "print('Score of Random Forest:',randomForest.score(testingX,testingY)) "
   ]
  },
  {
   "cell_type": "code",
   "execution_count": null,
   "metadata": {},
   "outputs": [],
   "source": [
    "probs = randomForest.predict_proba(testingX)  \n",
    "probs = probs[:, 1]  \n",
    "fper, tper, thresholds = roc_curve(testingY, probs) \n",
    "\n",
    "plot_roc_curve(fper, tper)\n",
    "auc = roc_auc_score(testingY, probs)\n",
    "print(\"AUC score:\",auc)"
   ]
  }
 ],
 "metadata": {
  "interpreter": {
   "hash": "cd33f47137b00f9a3c223ad7cd7ea8009173bfffa8c9627ff61bae578e5b56e2"
  },
  "kernelspec": {
   "display_name": "Python 3.10.4 64-bit",
   "language": "python",
   "name": "python3"
  },
  "language_info": {
   "codemirror_mode": {
    "name": "ipython",
    "version": 3
   },
   "file_extension": ".py",
   "mimetype": "text/x-python",
   "name": "python",
   "nbconvert_exporter": "python",
   "pygments_lexer": "ipython3",
   "version": "3.10.4"
  },
  "orig_nbformat": 4
 },
 "nbformat": 4,
 "nbformat_minor": 2
}
